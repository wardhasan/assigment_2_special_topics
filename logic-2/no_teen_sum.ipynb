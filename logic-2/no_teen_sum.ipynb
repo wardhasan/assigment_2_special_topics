{
 "cells": [
  {
   "cell_type": "code",
   "execution_count": 33,
   "metadata": {},
   "outputs": [
    {
     "data": {
      "text/plain": [
       "'wwaarrdd'"
      ]
     },
     "execution_count": 33,
     "metadata": {},
     "output_type": "execute_result"
    }
   ],
   "source": [
    "def no_teen_sum(a, b, c):\n",
    "  a1 = fix_teen(a)\n",
    "  b1 = fix_teen(b)\n",
    "  c1 = fix_teen(c)\n",
    "  return a1+b1+c1\n",
    "def fix_teen(n):\n",
    "  if n == 15 or n == 16:\n",
    "    return n\n",
    "  elif n >=13 and n<15: \n",
    "    return 0\n",
    "  elif n>16 and n<=19:\n",
    "    return 0\n",
    "  else:\n",
    "    return n\n"
   ]
  },
  {
   "cell_type": "code",
   "execution_count": null,
   "metadata": {},
   "outputs": [],
   "source": []
  },
  {
   "cell_type": "code",
   "execution_count": null,
   "metadata": {},
   "outputs": [],
   "source": []
  }
 ],
 "metadata": {
  "kernelspec": {
   "display_name": "Python 3",
   "language": "python",
   "name": "python3"
  },
  "language_info": {
   "codemirror_mode": {
    "name": "ipython",
    "version": 3
   },
   "file_extension": ".py",
   "mimetype": "text/x-python",
   "name": "python",
   "nbconvert_exporter": "python",
   "pygments_lexer": "ipython3",
   "version": "3.6.5"
  }
 },
 "nbformat": 4,
 "nbformat_minor": 2
}
