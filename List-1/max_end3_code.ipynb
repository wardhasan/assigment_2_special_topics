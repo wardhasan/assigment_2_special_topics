{
 "cells": [
  {
   "cell_type": "code",
   "execution_count": 15,
   "metadata": {},
   "outputs": [],
   "source": [
    "def max_end3(nums):\n",
    "  newlist=nums\n",
    "  if nums[0] >= nums[len(nums)-1]:\n",
    "    for i in range(len(newlist)):\n",
    "      newlist[i] = nums[0]\n",
    "  elif nums[0] < nums[len(nums)-1]:\n",
    "   \n",
    "    for i in range(len(newlist)):\n",
    "      newlist[i] = nums[len(nums)-1]\n",
    "  return newlist\n",
    "  "
   ]
  },
  {
   "cell_type": "code",
   "execution_count": null,
   "metadata": {},
   "outputs": [],
   "source": []
  }
 ],
 "metadata": {
  "kernelspec": {
   "display_name": "Python 3",
   "language": "python",
   "name": "python3"
  },
  "language_info": {
   "codemirror_mode": {
    "name": "ipython",
    "version": 3
   },
   "file_extension": ".py",
   "mimetype": "text/x-python",
   "name": "python",
   "nbconvert_exporter": "python",
   "pygments_lexer": "ipython3",
   "version": "3.6.5"
  }
 },
 "nbformat": 4,
 "nbformat_minor": 2
}
