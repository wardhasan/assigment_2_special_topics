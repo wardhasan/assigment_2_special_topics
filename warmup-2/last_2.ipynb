{
 "cells": [
  {
   "cell_type": "code",
   "execution_count": 11,
   "metadata": {},
   "outputs": [],
   "source": [
    "def last2(str):\n",
    "  new_list= list(str)\n",
    "  counter = 0\n",
    "  new_list = new_list[:len(str)-1]\n",
    "  new_string = str[len(str)-2:]\n",
    "  for i in range(len(new_list)):\n",
    "    if i == len(new_list)-1:\n",
    "      return counter\n",
    "    if new_list[i]+new_list[i+1] == new_string:\n",
    "      counter = counter + 1 \n",
    "      \n",
    "  return counter \n",
    "    \n",
    "  "
   ]
  },
  {
   "cell_type": "code",
   "execution_count": null,
   "metadata": {},
   "outputs": [],
   "source": []
  }
 ],
 "metadata": {
  "kernelspec": {
   "display_name": "Python 3",
   "language": "python",
   "name": "python3"
  },
  "language_info": {
   "codemirror_mode": {
    "name": "ipython",
    "version": 3
   },
   "file_extension": ".py",
   "mimetype": "text/x-python",
   "name": "python",
   "nbconvert_exporter": "python",
   "pygments_lexer": "ipython3",
   "version": "3.6.5"
  }
 },
 "nbformat": 4,
 "nbformat_minor": 2
}
