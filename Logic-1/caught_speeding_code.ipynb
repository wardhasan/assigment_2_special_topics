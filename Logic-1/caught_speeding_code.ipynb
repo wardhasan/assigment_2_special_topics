{
 "cells": [
  {
   "cell_type": "code",
   "execution_count": 18,
   "metadata": {},
   "outputs": [
    {
     "data": {
      "text/plain": [
       "1"
      ]
     },
     "execution_count": 18,
     "metadata": {},
     "output_type": "execute_result"
    }
   ],
   "source": [
    "def caught_speeding(speed, is_birthday):\n",
    "  if speed <= 60 and not is_birthday or speed<=65 and is_birthday:\n",
    "    return 0\n",
    "  elif (speed >= 61 and speed <=80 and not is_birthday) or (speed >= 66 and speed <=85 and is_birthday):\n",
    "    return 1\n",
    "  elif (speed>=81 and not is_birthday) or (speed>=86 and  is_birthday):\n",
    "    return 2\n"
   ]
  },
  {
   "cell_type": "code",
   "execution_count": null,
   "metadata": {},
   "outputs": [],
   "source": []
  }
 ],
 "metadata": {
  "kernelspec": {
   "display_name": "Python 3",
   "language": "python",
   "name": "python3"
  },
  "language_info": {
   "codemirror_mode": {
    "name": "ipython",
    "version": 3
   },
   "file_extension": ".py",
   "mimetype": "text/x-python",
   "name": "python",
   "nbconvert_exporter": "python",
   "pygments_lexer": "ipython3",
   "version": "3.6.5"
  }
 },
 "nbformat": 4,
 "nbformat_minor": 2
}
